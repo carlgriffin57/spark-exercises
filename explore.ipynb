{
 "cells": [
  {
   "cell_type": "code",
   "execution_count": 1,
   "metadata": {},
   "outputs": [],
   "source": [
    "import pyspark.sql\n",
    "from pyspark.sql.functions import *\n",
    "\n",
    "import numpy as np\n",
    "import pandas as pd\n",
    "\n",
    "import matplotlib.pyplot as plt\n",
    "import seaborn as sns\n",
    "\n",
    "from wrangle import wrangle_311\n",
    "\n",
    "import warnings \n",
    "warnings.filterwarnings(\"ignore\")\n",
    "\n",
    "spark = pyspark.sql.SparkSession.builder.getOrCreate()"
   ]
  },
  {
   "cell_type": "code",
   "execution_count": 2,
   "metadata": {},
   "outputs": [
    {
     "name": "stdout",
     "output_type": "stream",
     "text": [
      "[wrangle.py] reading case.csv\n",
      "[wrangle.py] handling data types\n",
      "[wrangle.py] parsing dates\n",
      "[wrangle.py] adding features\n",
      "[wrangle.py] joining departments\n"
     ]
    }
   ],
   "source": [
    "# Use the wrangle function provided by Zach to prepare and\n",
    "# combine the 311 dataset.\n",
    "df = wrangle_311(spark)\n"
   ]
  },
  {
   "cell_type": "code",
   "execution_count": 5,
   "metadata": {},
   "outputs": [
    {
     "name": "stdout",
     "output_type": "stream",
     "text": [
      "\n",
      "df shape: (841704, 20)\n",
      "\n"
     ]
    }
   ],
   "source": [
    "print(\"\\ndf shape: (%d, %d)\\n\" % (df.count(), len(df.columns)))"
   ]
  },
  {
   "cell_type": "code",
   "execution_count": 6,
   "metadata": {},
   "outputs": [
    {
     "name": "stdout",
     "output_type": "stream",
     "text": [
      "-RECORD 0------------------------------------\n",
      " case_id              | 1014127332           \n",
      " case_opened_date     | 2018-01-01 00:42:00  \n",
      " case_closed_date     | 2018-01-01 12:29:00  \n",
      " case_due_date        | 2020-09-26 00:42:00  \n",
      " case_late            | false                \n",
      " num_days_late        | -998.5087616000001   \n",
      " case_closed          | true                 \n",
      " service_request_type | Stray Animal         \n",
      " SLA_days             | 999.0                \n",
      " case_status          | Closed               \n",
      " source_id            | svcCRMLS             \n",
      " request_address      | 2315  EL PASO ST,... \n",
      " council_district     | 005                  \n",
      " num_weeks_late       | -142.6441088         \n",
      " zipcode              | 78207                \n",
      " case_age             | 219                  \n",
      " days_to_closed       | 0                    \n",
      " case_lifetime        | 0                    \n",
      " department           | Animal Care Services \n",
      " dept_subject_to_SLA  | true                 \n",
      "only showing top 1 row\n",
      "\n"
     ]
    }
   ],
   "source": [
    "# Display a single observation to the collective features represent.\n",
    "df.show(1, vertical=True)\n"
   ]
  },
  {
   "cell_type": "markdown",
   "metadata": {},
   "source": [
    "### How many different cases are there, by department?"
   ]
  },
  {
   "cell_type": "code",
   "execution_count": 8,
   "metadata": {},
   "outputs": [
    {
     "name": "stdout",
     "output_type": "stream",
     "text": [
      "+------------------------+--------------+\n",
      "|department              |distinct_cases|\n",
      "+------------------------+--------------+\n",
      "|Animal Care Services    |14            |\n",
      "|City Council            |2             |\n",
      "|Customer Service        |2             |\n",
      "|DSD/Code Enforcement    |122           |\n",
      "|Metro Health            |14            |\n",
      "|Parks & Recreation      |44            |\n",
      "|Solid Waste             |56            |\n",
      "|Trans & Cap Improvements|81            |\n",
      "+------------------------+--------------+\n",
      "\n"
     ]
    }
   ],
   "source": [
    "(\n",
    "    df.groupby('department')\n",
    "    .agg(countDistinct('service_request_type').alias('distinct_cases'))\n",
    "    .sort('department')\n",
    "    .show(truncate=False)\n",
    ")"
   ]
  },
  {
   "cell_type": "markdown",
   "metadata": {},
   "source": [
    "### Does the percentage of cases that are late vary by department?"
   ]
  },
  {
   "cell_type": "code",
   "execution_count": 9,
   "metadata": {},
   "outputs": [
    {
     "name": "stdout",
     "output_type": "stream",
     "text": [
      "+------------------------+--------------+\n",
      "|department              |pct_cases_late|\n",
      "+------------------------+--------------+\n",
      "|Animal Care Services    |0.1991        |\n",
      "|City Council            |0.0           |\n",
      "|Customer Service        |0.7055        |\n",
      "|DSD/Code Enforcement    |0.0816        |\n",
      "|Metro Health            |0.1606        |\n",
      "|Parks & Recreation      |0.1907        |\n",
      "|Solid Waste             |0.118         |\n",
      "|Trans & Cap Improvements|0.0563        |\n",
      "+------------------------+--------------+\n",
      "\n"
     ]
    }
   ],
   "source": [
    "df_department_pct_late_cases = (\n",
    "\n",
    "    df.groupby('department')\n",
    "      .pivot('case_late')\n",
    "    .count()\n",
    "    .select('department',\n",
    "            round((col('true')\n",
    "                   / (col('true') + col('false')))\n",
    "                  , 4)\n",
    "            .alias('pct_cases_late'))\n",
    "    \n",
    "    .na.fill(0)\n",
    "    .sort('department')\n",
    ")\n",
    "\n",
    "df_department_pct_late_cases.show(truncate=False)"
   ]
  },
  {
   "cell_type": "markdown",
   "metadata": {},
   "source": [
    "### On average, how late are the late cases by department?"
   ]
  },
  {
   "cell_type": "code",
   "execution_count": 10,
   "metadata": {},
   "outputs": [
    {
     "name": "stdout",
     "output_type": "stream",
     "text": [
      "+--------------------+-------------+\n",
      "|          department|avg_days_late|\n",
      "+--------------------+-------------+\n",
      "|Animal Care Services|         23.0|\n",
      "|    Customer Service|         88.0|\n",
      "|DSD/Code Enforcement|         49.0|\n",
      "|        Metro Health|          7.0|\n",
      "|  Parks & Recreation|         22.0|\n",
      "|         Solid Waste|          7.0|\n",
      "|Trans & Cap Impro...|         11.0|\n",
      "+--------------------+-------------+\n",
      "\n"
     ]
    }
   ],
   "source": [
    "(\n",
    "    df.filter(col('case_late') == True).groupby('department')\n",
    "    .agg(round(mean('num_days_late')).alias('avg_days_late'))\n",
    "    .sort('department')\n",
    "    .na.fill(0)\n",
    "    .show()\n",
    ")\n"
   ]
  },
  {
   "cell_type": "markdown",
   "metadata": {},
   "source": [
    "### What is the service type that is the most late? Just for Parks & Rec?"
   ]
  },
  {
   "cell_type": "code",
   "execution_count": 11,
   "metadata": {},
   "outputs": [
    {
     "name": "stdout",
     "output_type": "stream",
     "text": [
      "+--------------------+--------------------+-------------+\n",
      "|department          |service_request_type|avg_days_late|\n",
      "+--------------------+--------------------+-------------+\n",
      "|DSD/Code Enforcement|Zoning: Recycle Yard|211.0        |\n",
      "+--------------------+--------------------+-------------+\n",
      "only showing top 1 row\n",
      "\n"
     ]
    }
   ],
   "source": [
    "(\n",
    "    df.filter(col('case_late') == True).groupby('department', 'service_request_type')\n",
    "    .agg(round(mean('num_days_late')).alias('avg_days_late'))\n",
    "    .sort(desc('avg_days_late'))\n",
    "    .na.fill(0)\n",
    "    .show(1, truncate=False)\n",
    ")"
   ]
  },
  {
   "cell_type": "code",
   "execution_count": 12,
   "metadata": {},
   "outputs": [
    {
     "name": "stdout",
     "output_type": "stream",
     "text": [
      "+------------------------+-------------+\n",
      "|service_request_type    |avg_days_late|\n",
      "+------------------------+-------------+\n",
      "|Amenity Park Improvement|77.0         |\n",
      "+------------------------+-------------+\n",
      "only showing top 1 row\n",
      "\n"
     ]
    }
   ],
   "source": [
    "(\n",
    "    df.filter(col('case_late') == True)\n",
    "    .filter(col('department') == 'Parks & Recreation')\n",
    "    .groupby('service_request_type')\n",
    "    .agg(round(mean('num_days_late')).alias('avg_days_late'))\n",
    "    .sort(desc('avg_days_late'))\n",
    "    .na.fill(0)\n",
    "    .show(1, truncate=False)\n",
    ")\n"
   ]
  },
  {
   "cell_type": "markdown",
   "metadata": {},
   "source": [
    "### For the DSD/Code Enforcement department, what are the most common service request types? Look at other departments too."
   ]
  },
  {
   "cell_type": "code",
   "execution_count": 13,
   "metadata": {},
   "outputs": [
    {
     "name": "stdout",
     "output_type": "stream",
     "text": [
      "+--------------------------------------+-----+\n",
      "|service_request_type                  |count|\n",
      "+--------------------------------------+-----+\n",
      "|Overgrown Yard/Trash                  |65895|\n",
      "|Bandit Signs                          |32910|\n",
      "|Front Or Side Yard Parking            |28794|\n",
      "|Junk Vehicle On Private Property      |21473|\n",
      "|Alley-Way Maintenance                 |20214|\n",
      "|Right Of Way/Sidewalk Obstruction     |17699|\n",
      "|Vacant Lot/Overgrown/Trash            |9329 |\n",
      "|Minimum Housing-Owner Occupied        |8543 |\n",
      "|Graffiti: Private Property (Corridors)|8525 |\n",
      "|Dang. Premises/CL/SEC                 |8004 |\n",
      "+--------------------------------------+-----+\n",
      "only showing top 10 rows\n",
      "\n"
     ]
    }
   ],
   "source": [
    "(\n",
    "    df.filter(col('department') == 'DSD/Code Enforcement')\n",
    "    .groupby('service_request_type')\n",
    "    .count()\n",
    "    .sort(desc('count'))\n",
    "    .show(10, truncate=False)\n",
    ")"
   ]
  },
  {
   "cell_type": "code",
   "execution_count": 14,
   "metadata": {},
   "outputs": [],
   "source": [
    "department_names = list(df.select('department').toPandas()['department'].unique())"
   ]
  },
  {
   "cell_type": "code",
   "execution_count": 15,
   "metadata": {},
   "outputs": [
    {
     "name": "stdout",
     "output_type": "stream",
     "text": [
      "Department: Animal Care Services\n",
      "+-------------------------------+-----+\n",
      "|service_request_type           |count|\n",
      "+-------------------------------+-----+\n",
      "|Stray Animal                   |26760|\n",
      "|Aggressive Animal(Non-Critical)|24882|\n",
      "|Animal Neglect                 |13441|\n",
      "|Trapped/Confined Animal        |11354|\n",
      "|Public Nuisance(Own Animal)    |10715|\n",
      "+-------------------------------+-----+\n",
      "only showing top 5 rows\n",
      "\n",
      "\n",
      "Department: Trans & Cap Improvements\n",
      "+----------------------------------------------+-----+\n",
      "|service_request_type                          |count|\n",
      "+----------------------------------------------+-----+\n",
      "|Pot Hole Repair                               |20616|\n",
      "|Traffic Signal Ops and Maintenance - Emergency|7997 |\n",
      "|Traffic Sign Missing/Down                     |5674 |\n",
      "|Base/Pavement Repair                          |5385 |\n",
      "|Signal Timing Modification                    |4414 |\n",
      "+----------------------------------------------+-----+\n",
      "only showing top 5 rows\n",
      "\n",
      "\n",
      "Department: DSD/Code Enforcement\n",
      "+--------------------------------+-----+\n",
      "|service_request_type            |count|\n",
      "+--------------------------------+-----+\n",
      "|Overgrown Yard/Trash            |65895|\n",
      "|Bandit Signs                    |32910|\n",
      "|Front Or Side Yard Parking      |28794|\n",
      "|Junk Vehicle On Private Property|21473|\n",
      "|Alley-Way Maintenance           |20214|\n",
      "+--------------------------------+-----+\n",
      "only showing top 5 rows\n",
      "\n",
      "\n",
      "Department: Solid Waste\n",
      "+---------------------+-----+\n",
      "|service_request_type |count|\n",
      "+---------------------+-----+\n",
      "|No Pickup            |86855|\n",
      "|Damaged Cart         |30338|\n",
      "|Cart Exchange Request|22024|\n",
      "|Lost/Stolen Cart     |18731|\n",
      "|Dead Animal - Dog    |16714|\n",
      "+---------------------+-----+\n",
      "only showing top 5 rows\n",
      "\n",
      "\n",
      "Department: Parks & Recreation\n",
      "+----------------------------+-----+\n",
      "|service_request_type        |count|\n",
      "+----------------------------+-----+\n",
      "|Carpentry                   |1944 |\n",
      "|Plumbing                    |1782 |\n",
      "|Heating and Air Conditioning|1459 |\n",
      "|Playgrounds                 |1438 |\n",
      "|Ballfields                  |1234 |\n",
      "+----------------------------+-----+\n",
      "only showing top 5 rows\n",
      "\n",
      "\n",
      "Department: Customer Service\n",
      "+--------------------+-----+\n",
      "|service_request_type|count|\n",
      "+--------------------+-----+\n",
      "|Complaint           |2388 |\n",
      "|Compliment          |461  |\n",
      "+--------------------+-----+\n",
      "\n",
      "\n",
      "Department: Metro Health\n",
      "+-----------------------+-----+\n",
      "|service_request_type   |count|\n",
      "+-----------------------+-----+\n",
      "|License Renewal Invoice|1349 |\n",
      "|Hygienic Practices     |946  |\n",
      "|Pests                  |715  |\n",
      "|Food Contact Surfaces  |602  |\n",
      "|Public Right of Way    |538  |\n",
      "+-----------------------+-----+\n",
      "only showing top 5 rows\n",
      "\n",
      "\n",
      "Department: City Council\n",
      "+--------------------------------------+-----+\n",
      "|service_request_type                  |count|\n",
      "+--------------------------------------+-----+\n",
      "|Request for Research/Information      |31   |\n",
      "|CCO_Request for Research/Information_1|2    |\n",
      "+--------------------------------------+-----+\n",
      "\n",
      "\n"
     ]
    }
   ],
   "source": [
    "for name in department_names:\n",
    "    print(f'Department: {name}')\n",
    "    \n",
    "    (\n",
    "    df.filter(col('department') == f'{name}')\n",
    "    .groupby('service_request_type')\n",
    "    .count()\n",
    "    .sort(desc('count'))\n",
    "    .show(5, truncate=False)\n",
    "    )\n",
    "    print('')"
   ]
  },
  {
   "cell_type": "markdown",
   "metadata": {},
   "source": [
    "### Does whether or not its a weekend matter for when a case is opened/closed?"
   ]
  },
  {
   "cell_type": "code",
   "execution_count": 16,
   "metadata": {},
   "outputs": [
    {
     "name": "stdout",
     "output_type": "stream",
     "text": [
      "+------------------+------------------+------+\n",
      "|day_of_week_opened|day_of_week_closed| count|\n",
      "+------------------+------------------+------+\n",
      "|           weekday|           weekday|690853|\n",
      "|           weekday|           weekend| 51353|\n",
      "|           weekend|           weekday| 44714|\n",
      "|           weekend|           weekend| 36674|\n",
      "+------------------+------------------+------+\n",
      "\n"
     ]
    }
   ],
   "source": [
    "(\n",
    "    df.select(when(dayofweek('case_opened_date').isin([1,7]).cast(\"int\") == 0, 'weekday')\n",
    "              .otherwise('weekend').alias('day_of_week_opened'),\n",
    "              when(dayofweek('case_closed_date').isin([1,7]).cast(\"int\") == 0, 'weekday')\n",
    "              .otherwise('weekend').alias('day_of_week_closed'))\n",
    "    .filter(col('case_closed') == True)\n",
    "    .groupby('day_of_week_opened', 'day_of_week_closed')\n",
    "    .count()\n",
    "    .sort('day_of_week_opened', 'day_of_week_closed')\n",
    "    .show()\n",
    ")\n"
   ]
  },
  {
   "cell_type": "markdown",
   "metadata": {},
   "source": [
    "### On average, how many cases are opened a day for the Customer Service department?"
   ]
  },
  {
   "cell_type": "code",
   "execution_count": 17,
   "metadata": {},
   "outputs": [
    {
     "name": "stdout",
     "output_type": "stream",
     "text": [
      "+-----------+------------+\n",
      "|day_of_week|cases_opened|\n",
      "+-----------+------------+\n",
      "|   1-Sunday|          36|\n",
      "|   2-Monday|         444|\n",
      "|  3-Tuesday|         630|\n",
      "|4-Wednesday|         465|\n",
      "| 5-Thursday|         560|\n",
      "|   6-Friday|         546|\n",
      "| 7-Saturday|         168|\n",
      "+-----------+------------+\n",
      "\n"
     ]
    }
   ],
   "source": [
    "(    \n",
    "    df.filter(col('department') == 'Customer Service')\n",
    "    .select(concat(dayofweek(col('case_opened_date')), lit('-'), date_format(col('case_opened_date'), 'EEEE')).alias('day_of_week'))\n",
    "    .groupby('day_of_week')\n",
    "    .count()\n",
    "    .withColumnRenamed('count', 'cases_opened')\n",
    "    .sort('day_of_week')\n",
    "    .show()\n",
    ")"
   ]
  },
  {
   "cell_type": "markdown",
   "metadata": {},
   "source": [
    "### Does the number of service requests for the solid waste department vary by day of the week?"
   ]
  },
  {
   "cell_type": "code",
   "execution_count": 18,
   "metadata": {},
   "outputs": [],
   "source": [
    "solid_waste_weekly_requests = (\n",
    "    df.filter(col('department') == 'Solid Waste')\n",
    "        .select(weekofyear(col('case_opened_date')).alias('request_week_of_year'))\n",
    "        .groupby('request_week_of_year')\n",
    "        .count()\n",
    "        .withColumnRenamed('count', 'Cases')\n",
    "        .sort('request_week_of_year')\n",
    ")"
   ]
  },
  {
   "cell_type": "code",
   "execution_count": 19,
   "metadata": {},
   "outputs": [
    {
     "name": "stdout",
     "output_type": "stream",
     "text": [
      "+--------------------+-----+\n",
      "|request_week_of_year|Cases|\n",
      "+--------------------+-----+\n",
      "|                   1| 5955|\n",
      "|                   2| 6689|\n",
      "|                   3| 5198|\n",
      "|                   4| 6214|\n",
      "|                   5| 6346|\n",
      "+--------------------+-----+\n",
      "only showing top 5 rows\n",
      "\n"
     ]
    }
   ],
   "source": [
    "\n",
    "solid_waste_weekly_requests.show(5)"
   ]
  },
  {
   "cell_type": "code",
   "execution_count": null,
   "metadata": {},
   "outputs": [],
   "source": []
  }
 ],
 "metadata": {
  "kernelspec": {
   "display_name": "Python 3",
   "language": "python",
   "name": "python3"
  },
  "language_info": {
   "codemirror_mode": {
    "name": "ipython",
    "version": 3
   },
   "file_extension": ".py",
   "mimetype": "text/x-python",
   "name": "python",
   "nbconvert_exporter": "python",
   "pygments_lexer": "ipython3",
   "version": "3.8.5"
  },
  "toc": {
   "base_numbering": 1,
   "nav_menu": {},
   "number_sections": true,
   "sideBar": true,
   "skip_h1_title": false,
   "title_cell": "Table of Contents",
   "title_sidebar": "Contents",
   "toc_cell": false,
   "toc_position": {},
   "toc_section_display": true,
   "toc_window_display": false
  }
 },
 "nbformat": 4,
 "nbformat_minor": 4
}
